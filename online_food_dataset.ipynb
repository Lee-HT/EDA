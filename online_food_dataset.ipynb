{
  "nbformat": 4,
  "nbformat_minor": 0,
  "metadata": {
    "colab": {
      "provenance": [],
      "authorship_tag": "ABX9TyPdJ9+PjJnmilfsa+6BCRQK",
      "include_colab_link": true
    },
    "kernelspec": {
      "name": "python3",
      "display_name": "Python 3"
    },
    "language_info": {
      "name": "python"
    }
  },
  "cells": [
    {
      "cell_type": "markdown",
      "metadata": {
        "id": "view-in-github",
        "colab_type": "text"
      },
      "source": [
        "<a href=\"https://colab.research.google.com/github/Lee-HT/EDA/blob/main/online_food_dataset.ipynb\" target=\"_parent\"><img src=\"https://colab.research.google.com/assets/colab-badge.svg\" alt=\"Open In Colab\"/></a>"
      ]
    },
    {
      "cell_type": "markdown",
      "source": [
        "# Load Datasets"
      ],
      "metadata": {
        "id": "q9mYZydotqZg"
      }
    },
    {
      "cell_type": "markdown",
      "source": [
        "Data URL https://www.kaggle.com/datasets/sudarshan24byte/online-food-dataset/data"
      ],
      "metadata": {
        "id": "SLB5Bu_FIH9W"
      }
    },
    {
      "cell_type": "code",
      "execution_count": 3,
      "metadata": {
        "id": "Zn6539IAs0YO"
      },
      "outputs": [],
      "source": [
        "import pandas as pd"
      ]
    },
    {
      "cell_type": "code",
      "source": [
        "root = \"/content/\"\n",
        "\n",
        "data = pd.read_csv(root + \"onlinefoods.csv\")\n",
        "\n",
        "print(data.head(3))\n",
        "\n",
        "print(\"\\nUnnamed Check : \", data[data[\"Unnamed: 12\"] != data[\"Output\"]].size)"
      ],
      "metadata": {
        "colab": {
          "base_uri": "https://localhost:8080/"
        },
        "id": "2BcHU4KGuCCa",
        "outputId": "793325c0-5215-4a61-a41d-0e8f49bf410c"
      },
      "execution_count": 4,
      "outputs": [
        {
          "output_type": "stream",
          "name": "stdout",
          "text": [
            "   Age  Gender Marital Status Occupation  Monthly Income  \\\n",
            "0   20  Female         Single    Student       No Income   \n",
            "1   24  Female         Single    Student  Below Rs.10000   \n",
            "2   22    Male         Single    Student  Below Rs.10000   \n",
            "\n",
            "  Educational Qualifications  Family size  latitude  longitude  Pin code  \\\n",
            "0              Post Graduate            4   12.9766    77.5993    560001   \n",
            "1                   Graduate            3   12.9770    77.5773    560009   \n",
            "2              Post Graduate            3   12.9551    77.6593    560017   \n",
            "\n",
            "  Output   Feedback Unnamed: 12  \n",
            "0    Yes   Positive         Yes  \n",
            "1    Yes   Positive         Yes  \n",
            "2    Yes  Negative          Yes  \n",
            "\n",
            "Unnamed Check :  0\n"
          ]
        }
      ]
    },
    {
      "cell_type": "markdown",
      "source": [
        "\"Output\" 열과 동일한 값을 가진 \"Unnamed: 12\" 열 삭제"
      ],
      "metadata": {
        "id": "TbG6oNpA-7US"
      }
    },
    {
      "cell_type": "code",
      "source": [
        "columns = data.columns\n",
        "remove_cols = [\"Unnamed: 12\"]\n",
        "\n",
        "def remove_columns():\n",
        "  exists = []\n",
        "  for col in remove_cols:\n",
        "    if col in columns:\n",
        "      exists.append(col)\n",
        "\n",
        "  data.drop(exists,axis=1, inplace=True)\n",
        "\n",
        "remove_columns()\n",
        "data.rename(columns={\"Marital Status\":\"Marital\",\"Monthly Income\":\"Income\",\"Educational Qualifications\":\"Education\",\"Pin code\":\"code\"}, inplace=True)\n",
        "\n",
        "print(data.columns)"
      ],
      "metadata": {
        "colab": {
          "base_uri": "https://localhost:8080/"
        },
        "id": "uungD8z11TqE",
        "outputId": "51b8cb16-ad2d-4292-bf17-f79c7a6713d4"
      },
      "execution_count": 5,
      "outputs": [
        {
          "output_type": "stream",
          "name": "stdout",
          "text": [
            "Index(['Age', 'Gender', 'Marital', 'Occupation', 'Income', 'Education',\n",
            "       'Family size', 'latitude', 'longitude', 'code', 'Output', 'Feedback'],\n",
            "      dtype='object')\n"
          ]
        }
      ]
    },
    {
      "cell_type": "markdown",
      "source": [
        "# EDA"
      ],
      "metadata": {
        "id": "jGsZjg1Jtuzw"
      }
    },
    {
      "cell_type": "code",
      "source": [
        "from sklearn.preprocessing import MinMaxScaler,LabelEncoder\n",
        "from scipy.stats.contingency import association\n",
        "import matplotlib.pyplot as plt\n",
        "import seaborn as sns\n",
        "import scipy.stats as stats\n",
        "import math"
      ],
      "metadata": {
        "id": "LAZHOLNJwUcb"
      },
      "execution_count": 6,
      "outputs": []
    },
    {
      "cell_type": "markdown",
      "source": [
        "수치형 자료 통계 확인"
      ],
      "metadata": {
        "id": "GsyibirlAh8p"
      }
    },
    {
      "cell_type": "code",
      "source": [
        "data.describe()"
      ],
      "metadata": {
        "colab": {
          "base_uri": "https://localhost:8080/",
          "height": 300
        },
        "id": "xXLfOEKntzNq",
        "outputId": "8eae3fb3-4733-4c4f-dbd3-b74c427bc184"
      },
      "execution_count": 7,
      "outputs": [
        {
          "output_type": "execute_result",
          "data": {
            "text/plain": [
              "              Age  Family size    latitude   longitude           code\n",
              "count  388.000000   388.000000  388.000000  388.000000     388.000000\n",
              "mean    24.628866     3.280928   12.972058   77.600160  560040.113402\n",
              "std      2.975593     1.351025    0.044489    0.051354      31.399609\n",
              "min     18.000000     1.000000   12.865200   77.484200  560001.000000\n",
              "25%     23.000000     2.000000   12.936900   77.565275  560010.750000\n",
              "50%     24.000000     3.000000   12.977000   77.592100  560033.500000\n",
              "75%     26.000000     4.000000   12.997025   77.630900  560068.000000\n",
              "max     33.000000     6.000000   13.102000   77.758200  560109.000000"
            ],
            "text/html": [
              "\n",
              "  <div id=\"df-1ee3e853-3de4-4761-b2a8-88f605a32d35\" class=\"colab-df-container\">\n",
              "    <div>\n",
              "<style scoped>\n",
              "    .dataframe tbody tr th:only-of-type {\n",
              "        vertical-align: middle;\n",
              "    }\n",
              "\n",
              "    .dataframe tbody tr th {\n",
              "        vertical-align: top;\n",
              "    }\n",
              "\n",
              "    .dataframe thead th {\n",
              "        text-align: right;\n",
              "    }\n",
              "</style>\n",
              "<table border=\"1\" class=\"dataframe\">\n",
              "  <thead>\n",
              "    <tr style=\"text-align: right;\">\n",
              "      <th></th>\n",
              "      <th>Age</th>\n",
              "      <th>Family size</th>\n",
              "      <th>latitude</th>\n",
              "      <th>longitude</th>\n",
              "      <th>code</th>\n",
              "    </tr>\n",
              "  </thead>\n",
              "  <tbody>\n",
              "    <tr>\n",
              "      <th>count</th>\n",
              "      <td>388.000000</td>\n",
              "      <td>388.000000</td>\n",
              "      <td>388.000000</td>\n",
              "      <td>388.000000</td>\n",
              "      <td>388.000000</td>\n",
              "    </tr>\n",
              "    <tr>\n",
              "      <th>mean</th>\n",
              "      <td>24.628866</td>\n",
              "      <td>3.280928</td>\n",
              "      <td>12.972058</td>\n",
              "      <td>77.600160</td>\n",
              "      <td>560040.113402</td>\n",
              "    </tr>\n",
              "    <tr>\n",
              "      <th>std</th>\n",
              "      <td>2.975593</td>\n",
              "      <td>1.351025</td>\n",
              "      <td>0.044489</td>\n",
              "      <td>0.051354</td>\n",
              "      <td>31.399609</td>\n",
              "    </tr>\n",
              "    <tr>\n",
              "      <th>min</th>\n",
              "      <td>18.000000</td>\n",
              "      <td>1.000000</td>\n",
              "      <td>12.865200</td>\n",
              "      <td>77.484200</td>\n",
              "      <td>560001.000000</td>\n",
              "    </tr>\n",
              "    <tr>\n",
              "      <th>25%</th>\n",
              "      <td>23.000000</td>\n",
              "      <td>2.000000</td>\n",
              "      <td>12.936900</td>\n",
              "      <td>77.565275</td>\n",
              "      <td>560010.750000</td>\n",
              "    </tr>\n",
              "    <tr>\n",
              "      <th>50%</th>\n",
              "      <td>24.000000</td>\n",
              "      <td>3.000000</td>\n",
              "      <td>12.977000</td>\n",
              "      <td>77.592100</td>\n",
              "      <td>560033.500000</td>\n",
              "    </tr>\n",
              "    <tr>\n",
              "      <th>75%</th>\n",
              "      <td>26.000000</td>\n",
              "      <td>4.000000</td>\n",
              "      <td>12.997025</td>\n",
              "      <td>77.630900</td>\n",
              "      <td>560068.000000</td>\n",
              "    </tr>\n",
              "    <tr>\n",
              "      <th>max</th>\n",
              "      <td>33.000000</td>\n",
              "      <td>6.000000</td>\n",
              "      <td>13.102000</td>\n",
              "      <td>77.758200</td>\n",
              "      <td>560109.000000</td>\n",
              "    </tr>\n",
              "  </tbody>\n",
              "</table>\n",
              "</div>\n",
              "    <div class=\"colab-df-buttons\">\n",
              "\n",
              "  <div class=\"colab-df-container\">\n",
              "    <button class=\"colab-df-convert\" onclick=\"convertToInteractive('df-1ee3e853-3de4-4761-b2a8-88f605a32d35')\"\n",
              "            title=\"Convert this dataframe to an interactive table.\"\n",
              "            style=\"display:none;\">\n",
              "\n",
              "  <svg xmlns=\"http://www.w3.org/2000/svg\" height=\"24px\" viewBox=\"0 -960 960 960\">\n",
              "    <path d=\"M120-120v-720h720v720H120Zm60-500h600v-160H180v160Zm220 220h160v-160H400v160Zm0 220h160v-160H400v160ZM180-400h160v-160H180v160Zm440 0h160v-160H620v160ZM180-180h160v-160H180v160Zm440 0h160v-160H620v160Z\"/>\n",
              "  </svg>\n",
              "    </button>\n",
              "\n",
              "  <style>\n",
              "    .colab-df-container {\n",
              "      display:flex;\n",
              "      gap: 12px;\n",
              "    }\n",
              "\n",
              "    .colab-df-convert {\n",
              "      background-color: #E8F0FE;\n",
              "      border: none;\n",
              "      border-radius: 50%;\n",
              "      cursor: pointer;\n",
              "      display: none;\n",
              "      fill: #1967D2;\n",
              "      height: 32px;\n",
              "      padding: 0 0 0 0;\n",
              "      width: 32px;\n",
              "    }\n",
              "\n",
              "    .colab-df-convert:hover {\n",
              "      background-color: #E2EBFA;\n",
              "      box-shadow: 0px 1px 2px rgba(60, 64, 67, 0.3), 0px 1px 3px 1px rgba(60, 64, 67, 0.15);\n",
              "      fill: #174EA6;\n",
              "    }\n",
              "\n",
              "    .colab-df-buttons div {\n",
              "      margin-bottom: 4px;\n",
              "    }\n",
              "\n",
              "    [theme=dark] .colab-df-convert {\n",
              "      background-color: #3B4455;\n",
              "      fill: #D2E3FC;\n",
              "    }\n",
              "\n",
              "    [theme=dark] .colab-df-convert:hover {\n",
              "      background-color: #434B5C;\n",
              "      box-shadow: 0px 1px 3px 1px rgba(0, 0, 0, 0.15);\n",
              "      filter: drop-shadow(0px 1px 2px rgba(0, 0, 0, 0.3));\n",
              "      fill: #FFFFFF;\n",
              "    }\n",
              "  </style>\n",
              "\n",
              "    <script>\n",
              "      const buttonEl =\n",
              "        document.querySelector('#df-1ee3e853-3de4-4761-b2a8-88f605a32d35 button.colab-df-convert');\n",
              "      buttonEl.style.display =\n",
              "        google.colab.kernel.accessAllowed ? 'block' : 'none';\n",
              "\n",
              "      async function convertToInteractive(key) {\n",
              "        const element = document.querySelector('#df-1ee3e853-3de4-4761-b2a8-88f605a32d35');\n",
              "        const dataTable =\n",
              "          await google.colab.kernel.invokeFunction('convertToInteractive',\n",
              "                                                    [key], {});\n",
              "        if (!dataTable) return;\n",
              "\n",
              "        const docLinkHtml = 'Like what you see? Visit the ' +\n",
              "          '<a target=\"_blank\" href=https://colab.research.google.com/notebooks/data_table.ipynb>data table notebook</a>'\n",
              "          + ' to learn more about interactive tables.';\n",
              "        element.innerHTML = '';\n",
              "        dataTable['output_type'] = 'display_data';\n",
              "        await google.colab.output.renderOutput(dataTable, element);\n",
              "        const docLink = document.createElement('div');\n",
              "        docLink.innerHTML = docLinkHtml;\n",
              "        element.appendChild(docLink);\n",
              "      }\n",
              "    </script>\n",
              "  </div>\n",
              "\n",
              "\n",
              "<div id=\"df-ad0c5df8-a86e-4e7f-9cd8-24ff2f980522\">\n",
              "  <button class=\"colab-df-quickchart\" onclick=\"quickchart('df-ad0c5df8-a86e-4e7f-9cd8-24ff2f980522')\"\n",
              "            title=\"Suggest charts\"\n",
              "            style=\"display:none;\">\n",
              "\n",
              "<svg xmlns=\"http://www.w3.org/2000/svg\" height=\"24px\"viewBox=\"0 0 24 24\"\n",
              "     width=\"24px\">\n",
              "    <g>\n",
              "        <path d=\"M19 3H5c-1.1 0-2 .9-2 2v14c0 1.1.9 2 2 2h14c1.1 0 2-.9 2-2V5c0-1.1-.9-2-2-2zM9 17H7v-7h2v7zm4 0h-2V7h2v10zm4 0h-2v-4h2v4z\"/>\n",
              "    </g>\n",
              "</svg>\n",
              "  </button>\n",
              "\n",
              "<style>\n",
              "  .colab-df-quickchart {\n",
              "      --bg-color: #E8F0FE;\n",
              "      --fill-color: #1967D2;\n",
              "      --hover-bg-color: #E2EBFA;\n",
              "      --hover-fill-color: #174EA6;\n",
              "      --disabled-fill-color: #AAA;\n",
              "      --disabled-bg-color: #DDD;\n",
              "  }\n",
              "\n",
              "  [theme=dark] .colab-df-quickchart {\n",
              "      --bg-color: #3B4455;\n",
              "      --fill-color: #D2E3FC;\n",
              "      --hover-bg-color: #434B5C;\n",
              "      --hover-fill-color: #FFFFFF;\n",
              "      --disabled-bg-color: #3B4455;\n",
              "      --disabled-fill-color: #666;\n",
              "  }\n",
              "\n",
              "  .colab-df-quickchart {\n",
              "    background-color: var(--bg-color);\n",
              "    border: none;\n",
              "    border-radius: 50%;\n",
              "    cursor: pointer;\n",
              "    display: none;\n",
              "    fill: var(--fill-color);\n",
              "    height: 32px;\n",
              "    padding: 0;\n",
              "    width: 32px;\n",
              "  }\n",
              "\n",
              "  .colab-df-quickchart:hover {\n",
              "    background-color: var(--hover-bg-color);\n",
              "    box-shadow: 0 1px 2px rgba(60, 64, 67, 0.3), 0 1px 3px 1px rgba(60, 64, 67, 0.15);\n",
              "    fill: var(--button-hover-fill-color);\n",
              "  }\n",
              "\n",
              "  .colab-df-quickchart-complete:disabled,\n",
              "  .colab-df-quickchart-complete:disabled:hover {\n",
              "    background-color: var(--disabled-bg-color);\n",
              "    fill: var(--disabled-fill-color);\n",
              "    box-shadow: none;\n",
              "  }\n",
              "\n",
              "  .colab-df-spinner {\n",
              "    border: 2px solid var(--fill-color);\n",
              "    border-color: transparent;\n",
              "    border-bottom-color: var(--fill-color);\n",
              "    animation:\n",
              "      spin 1s steps(1) infinite;\n",
              "  }\n",
              "\n",
              "  @keyframes spin {\n",
              "    0% {\n",
              "      border-color: transparent;\n",
              "      border-bottom-color: var(--fill-color);\n",
              "      border-left-color: var(--fill-color);\n",
              "    }\n",
              "    20% {\n",
              "      border-color: transparent;\n",
              "      border-left-color: var(--fill-color);\n",
              "      border-top-color: var(--fill-color);\n",
              "    }\n",
              "    30% {\n",
              "      border-color: transparent;\n",
              "      border-left-color: var(--fill-color);\n",
              "      border-top-color: var(--fill-color);\n",
              "      border-right-color: var(--fill-color);\n",
              "    }\n",
              "    40% {\n",
              "      border-color: transparent;\n",
              "      border-right-color: var(--fill-color);\n",
              "      border-top-color: var(--fill-color);\n",
              "    }\n",
              "    60% {\n",
              "      border-color: transparent;\n",
              "      border-right-color: var(--fill-color);\n",
              "    }\n",
              "    80% {\n",
              "      border-color: transparent;\n",
              "      border-right-color: var(--fill-color);\n",
              "      border-bottom-color: var(--fill-color);\n",
              "    }\n",
              "    90% {\n",
              "      border-color: transparent;\n",
              "      border-bottom-color: var(--fill-color);\n",
              "    }\n",
              "  }\n",
              "</style>\n",
              "\n",
              "  <script>\n",
              "    async function quickchart(key) {\n",
              "      const quickchartButtonEl =\n",
              "        document.querySelector('#' + key + ' button');\n",
              "      quickchartButtonEl.disabled = true;  // To prevent multiple clicks.\n",
              "      quickchartButtonEl.classList.add('colab-df-spinner');\n",
              "      try {\n",
              "        const charts = await google.colab.kernel.invokeFunction(\n",
              "            'suggestCharts', [key], {});\n",
              "      } catch (error) {\n",
              "        console.error('Error during call to suggestCharts:', error);\n",
              "      }\n",
              "      quickchartButtonEl.classList.remove('colab-df-spinner');\n",
              "      quickchartButtonEl.classList.add('colab-df-quickchart-complete');\n",
              "    }\n",
              "    (() => {\n",
              "      let quickchartButtonEl =\n",
              "        document.querySelector('#df-ad0c5df8-a86e-4e7f-9cd8-24ff2f980522 button');\n",
              "      quickchartButtonEl.style.display =\n",
              "        google.colab.kernel.accessAllowed ? 'block' : 'none';\n",
              "    })();\n",
              "  </script>\n",
              "</div>\n",
              "\n",
              "    </div>\n",
              "  </div>\n"
            ],
            "application/vnd.google.colaboratory.intrinsic+json": {
              "type": "dataframe",
              "summary": "{\n  \"name\": \"data\",\n  \"rows\": 8,\n  \"fields\": [\n    {\n      \"column\": \"Age\",\n      \"properties\": {\n        \"dtype\": \"number\",\n        \"std\": 129.81129915495708,\n        \"min\": 2.9755926606729055,\n        \"max\": 388.0,\n        \"num_unique_values\": 8,\n        \"samples\": [\n          24.628865979381445,\n          24.0,\n          388.0\n        ],\n        \"semantic_type\": \"\",\n        \"description\": \"\"\n      }\n    },\n    {\n      \"column\": \"Family size\",\n      \"properties\": {\n        \"dtype\": \"number\",\n        \"std\": 136.14597242470964,\n        \"min\": 1.0,\n        \"max\": 388.0,\n        \"num_unique_values\": 8,\n        \"samples\": [\n          3.2809278350515463,\n          3.0,\n          388.0\n        ],\n        \"semantic_type\": \"\",\n        \"description\": \"\"\n      }\n    },\n    {\n      \"column\": \"latitude\",\n      \"properties\": {\n        \"dtype\": \"number\",\n        \"std\": 133.32126071463378,\n        \"min\": 0.04448924862810607,\n        \"max\": 388.0,\n        \"num_unique_values\": 8,\n        \"samples\": [\n          12.97205798969072,\n          12.977,\n          388.0\n        ],\n        \"semantic_type\": \"\",\n        \"description\": \"\"\n      }\n    },\n    {\n      \"column\": \"longitude\",\n      \"properties\": {\n        \"dtype\": \"number\",\n        \"std\": 116.8532223144657,\n        \"min\": 0.051353917012718464,\n        \"max\": 388.0,\n        \"num_unique_values\": 8,\n        \"samples\": [\n          77.60015953608249,\n          77.5921,\n          388.0\n        ],\n        \"semantic_type\": \"\",\n        \"description\": \"\"\n      }\n    },\n    {\n      \"column\": \"code\",\n      \"properties\": {\n        \"dtype\": \"number\",\n        \"std\": 259152.81726204752,\n        \"min\": 31.399608710233288,\n        \"max\": 560109.0,\n        \"num_unique_values\": 8,\n        \"samples\": [\n          560040.1134020619,\n          560033.5,\n          388.0\n        ],\n        \"semantic_type\": \"\",\n        \"description\": \"\"\n      }\n    }\n  ]\n}"
            }
          },
          "metadata": {},
          "execution_count": 7
        }
      ]
    },
    {
      "cell_type": "markdown",
      "source": [
        "데이터 시각화"
      ],
      "metadata": {
        "id": "N2Qx4pDVEgKQ"
      }
    },
    {
      "cell_type": "code",
      "source": [
        "fig, ax = plt.subplots(ncols=2,figsize=(14,6))\n",
        "sns.countplot(x=data[\"Age\"],ax=ax[0])\n",
        "sns.countplot(x=data[\"Family size\"],ax=ax[1])\n",
        "\n",
        "plt.show()"
      ],
      "metadata": {
        "colab": {
          "base_uri": "https://localhost:8080/",
          "height": 542
        },
        "id": "tsH3gmKpxhCD",
        "outputId": "212ec21d-3eb6-4475-d2c3-ed1c40f2e4e3"
      },
      "execution_count": 8,
      "outputs": [
        {
          "output_type": "display_data",
          "data": {
            "text/plain": [
              "<Figure size 1400x600 with 2 Axes>"
            ],
            "image/png": "[encoded data removed]"
          },
          "metadata": {}
        }
      ]
    },
    {
      "cell_type": "markdown",
      "source": [
        "10000 루피 이하의 경우 부정적인 피드백의 비율이 높음"
      ],
      "metadata": {
        "id": "knJECh6-H3TB"
      }
    },
    {
      "cell_type": "code",
      "source": [
        "column_name = \"Income\"\n",
        "true_data = data[data[\"Feedback\"]==\"Positive\"][column_name].value_counts()\n",
        "false_data = data[data[\"Feedback\"]==\"Negative \"][column_name].value_counts()\n",
        "print(true_data)\n",
        "\n",
        "plt.figure(figsize=(10,6))\n",
        "plt.bar(true_data.index,true_data)\n",
        "plt.bar(false_data.index,false_data)\n",
        "plt.legend(labels=[\"True\",\"False\"])\n",
        "plt.show()"
      ],
      "metadata": {
        "colab": {
          "base_uri": "https://localhost:8080/",
          "height": 653
        },
        "id": "rfIV7xMS8dd4",
        "outputId": "61885216-7b82-4c2f-bec2-4fb2536f8d8b"
      },
      "execution_count": 9,
      "outputs": [
        {
          "output_type": "stream",
          "name": "stdout",
          "text": [
            "Income\n",
            "No Income          170\n",
            "More than 50000     50\n",
            "25001 to 50000      48\n",
            "10001 to 25000      35\n",
            "Below Rs.10000      14\n",
            "Name: count, dtype: int64\n"
          ]
        },
        {
          "output_type": "display_data",
          "data": {
            "text/plain": [
              "<Figure size 1000x600 with 1 Axes>"
            ],
            "image/png": "[encoded data removed]"
          },
          "metadata": {}
        }
      ]
    },
    {
      "cell_type": "markdown",
      "source": [
        "범주형 변수 인코딩"
      ],
      "metadata": {
        "id": "F2b_XirW_Zbj"
      }
    },
    {
      "cell_type": "code",
      "source": [
        "encoder = LabelEncoder()\n",
        "\n",
        "for c in [\"Gender\",\"Marital\",\"Occupation\",\"Education\"]:\n",
        "  data[[c]] = data[[c]].apply(encoder.fit_transform)\n",
        "  print(encoder.classes_)\n",
        "\n",
        "data[\"Feedback\"] = data[\"Feedback\"].apply(lambda x:1 if x == \"Positive\" else 0)\n",
        "data[\"Output\"] = data[\"Output\"].apply(lambda x:1 if x == \"Yes\" else 0)\n",
        "print(\"\\n\",data.head(5))"
      ],
      "metadata": {
        "colab": {
          "base_uri": "https://localhost:8080/"
        },
        "id": "0IaRR5h49R9W",
        "outputId": "88e46c2d-a7b0-4af8-8b3d-a841e46344d8"
      },
      "execution_count": 10,
      "outputs": [
        {
          "output_type": "stream",
          "name": "stdout",
          "text": [
            "['Female' 'Male']\n",
            "['Married' 'Prefer not to say' 'Single']\n",
            "['Employee' 'House wife' 'Self Employeed' 'Student']\n",
            "['Graduate' 'Ph.D' 'Post Graduate' 'School' 'Uneducated']\n",
            "\n",
            "    Age  Gender  Marital  Occupation          Income  Education  Family size  \\\n",
            "0   20       0        2           3       No Income          2            4   \n",
            "1   24       0        2           3  Below Rs.10000          0            3   \n",
            "2   22       1        2           3  Below Rs.10000          2            3   \n",
            "3   22       0        2           3       No Income          0            6   \n",
            "4   22       1        2           3  Below Rs.10000          2            4   \n",
            "\n",
            "   latitude  longitude    code  Output  Feedback  \n",
            "0   12.9766    77.5993  560001       1         1  \n",
            "1   12.9770    77.5773  560009       1         1  \n",
            "2   12.9551    77.6593  560017       1         0  \n",
            "3   12.9473    77.5616  560019       1         1  \n",
            "4   12.9850    77.5533  560010       1         1  \n"
          ]
        }
      ]
    },
    {
      "cell_type": "code",
      "source": [
        "print(data[\"Income\"].value_counts(),\"\\n\")\n",
        "\n",
        "encode = {'No Income':0, 'Below Rs.10000':10000 ,'More than 50000':50000, '10001 to 25000':17500,'25001 to 50000':37500}\n",
        "data[\"Income\"] = data[\"Income\"].apply(lambda x:encode[x])\n",
        "print(data[\"Income\"])"
      ],
      "metadata": {
        "colab": {
          "base_uri": "https://localhost:8080/"
        },
        "id": "2GGPZzTeureT",
        "outputId": "cac6de73-f614-4fe8-c1f5-074c42fbd76c"
      },
      "execution_count": 11,
      "outputs": [
        {
          "output_type": "stream",
          "name": "stdout",
          "text": [
            "Income\n",
            "No Income          187\n",
            "25001 to 50000      69\n",
            "More than 50000     62\n",
            "10001 to 25000      45\n",
            "Below Rs.10000      25\n",
            "Name: count, dtype: int64 \n",
            "\n",
            "0          0\n",
            "1      10000\n",
            "2      10000\n",
            "3          0\n",
            "4      10000\n",
            "       ...  \n",
            "383        0\n",
            "384        0\n",
            "385        0\n",
            "386    10000\n",
            "387        0\n",
            "Name: Income, Length: 388, dtype: int64\n"
          ]
        }
      ]
    },
    {
      "cell_type": "markdown",
      "source": [
        "수입, 위치 정보, 위치 코드 정규화"
      ],
      "metadata": {
        "id": "A23znJorAzfv"
      }
    },
    {
      "cell_type": "code",
      "source": [
        "scaler = MinMaxScaler()\n",
        "\n",
        "data[[\"Income\",\"latitude\",\"longitude\",\"code\"]] = scaler.fit_transform(data[[\"Income\",\"latitude\",\"longitude\",\"code\"]])\n",
        "\n",
        "data[[\"Income\",\"latitude\",\"longitude\",\"code\"]].describe()"
      ],
      "metadata": {
        "colab": {
          "base_uri": "https://localhost:8080/",
          "height": 300
        },
        "id": "OH6YmcOWu406",
        "outputId": "24b133a9-496f-4302-cdef-9cffa17bee14"
      },
      "execution_count": 12,
      "outputs": [
        {
          "output_type": "execute_result",
          "data": {
            "text/plain": [
              "           Income    latitude   longitude        code\n",
              "count  388.000000  388.000000  388.000000  388.000000\n",
              "mean     0.346649    0.451258    0.423210    0.362161\n",
              "std      0.396042    0.187877    0.187423    0.290737\n",
              "min      0.000000    0.000000    0.000000    0.000000\n",
              "25%      0.000000    0.302787    0.295894    0.090278\n",
              "50%      0.200000    0.472128    0.393796    0.300926\n",
              "75%      0.750000    0.556693    0.535401    0.620370\n",
              "max      1.000000    1.000000    1.000000    1.000000"
            ],
            "text/html": [
              "\n",
              "  <div id=\"df-56a6d001-eb12-48ad-80fd-45fa7f479e24\" class=\"colab-df-container\">\n",
              "    <div>\n",
              "<style scoped>\n",
              "    .dataframe tbody tr th:only-of-type {\n",
              "        vertical-align: middle;\n",
              "    }\n",
              "\n",
              "    .dataframe tbody tr th {\n",
              "        vertical-align: top;\n",
              "    }\n",
              "\n",
              "    .dataframe thead th {\n",
              "        text-align: right;\n",
              "    }\n",
              "</style>\n",
              "<table border=\"1\" class=\"dataframe\">\n",
              "  <thead>\n",
              "    <tr style=\"text-align: right;\">\n",
              "      <th></th>\n",
              "      <th>Income</th>\n",
              "      <th>latitude</th>\n",
              "      <th>longitude</th>\n",
              "      <th>code</th>\n",
              "    </tr>\n",
              "  </thead>\n",
              "  <tbody>\n",
              "    <tr>\n",
              "      <th>count</th>\n",
              "      <td>388.000000</td>\n",
              "      <td>388.000000</td>\n",
              "      <td>388.000000</td>\n",
              "      <td>388.000000</td>\n",
              "    </tr>\n",
              "    <tr>\n",
              "      <th>mean</th>\n",
              "      <td>0.346649</td>\n",
              "      <td>0.451258</td>\n",
              "      <td>0.423210</td>\n",
              "      <td>0.362161</td>\n",
              "    </tr>\n",
              "    <tr>\n",
              "      <th>std</th>\n",
              "      <td>0.396042</td>\n",
              "      <td>0.187877</td>\n",
              "      <td>0.187423</td>\n",
              "      <td>0.290737</td>\n",
              "    </tr>\n",
              "    <tr>\n",
              "      <th>min</th>\n",
              "      <td>0.000000</td>\n",
              "      <td>0.000000</td>\n",
              "      <td>0.000000</td>\n",
              "      <td>0.000000</td>\n",
              "    </tr>\n",
              "    <tr>\n",
              "      <th>25%</th>\n",
              "      <td>0.000000</td>\n",
              "      <td>0.302787</td>\n",
              "      <td>0.295894</td>\n",
              "      <td>0.090278</td>\n",
              "    </tr>\n",
              "    <tr>\n",
              "      <th>50%</th>\n",
              "      <td>0.200000</td>\n",
              "      <td>0.472128</td>\n",
              "      <td>0.393796</td>\n",
              "      <td>0.300926</td>\n",
              "    </tr>\n",
              "    <tr>\n",
              "      <th>75%</th>\n",
              "      <td>0.750000</td>\n",
              "      <td>0.556693</td>\n",
              "      <td>0.535401</td>\n",
              "      <td>0.620370</td>\n",
              "    </tr>\n",
              "    <tr>\n",
              "      <th>max</th>\n",
              "      <td>1.000000</td>\n",
              "      <td>1.000000</td>\n",
              "      <td>1.000000</td>\n",
              "      <td>1.000000</td>\n",
              "    </tr>\n",
              "  </tbody>\n",
              "</table>\n",
              "</div>\n",
              "    <div class=\"colab-df-buttons\">\n",
              "\n",
              "  <div class=\"colab-df-container\">\n",
              "    <button class=\"colab-df-convert\" onclick=\"convertToInteractive('df-56a6d001-eb12-48ad-80fd-45fa7f479e24')\"\n",
              "            title=\"Convert this dataframe to an interactive table.\"\n",
              "            style=\"display:none;\">\n",
              "\n",
              "  <svg xmlns=\"http://www.w3.org/2000/svg\" height=\"24px\" viewBox=\"0 -960 960 960\">\n",
              "    <path d=\"M120-120v-720h720v720H120Zm60-500h600v-160H180v160Zm220 220h160v-160H400v160Zm0 220h160v-160H400v160ZM180-400h160v-160H180v160Zm440 0h160v-160H620v160ZM180-180h160v-160H180v160Zm440 0h160v-160H620v160Z\"/>\n",
              "  </svg>\n",
              "    </button>\n",
              "\n",
              "  <style>\n",
              "    .colab-df-container {\n",
              "      display:flex;\n",
              "      gap: 12px;\n",
              "    }\n",
              "\n",
              "    .colab-df-convert {\n",
              "      background-color: #E8F0FE;\n",
              "      border: none;\n",
              "      border-radius: 50%;\n",
              "      cursor: pointer;\n",
              "      display: none;\n",
              "      fill: #1967D2;\n",
              "      height: 32px;\n",
              "      padding: 0 0 0 0;\n",
              "      width: 32px;\n",
              "    }\n",
              "\n",
              "    .colab-df-convert:hover {\n",
              "      background-color: #E2EBFA;\n",
              "      box-shadow: 0px 1px 2px rgba(60, 64, 67, 0.3), 0px 1px 3px 1px rgba(60, 64, 67, 0.15);\n",
              "      fill: #174EA6;\n",
              "    }\n",
              "\n",
              "    .colab-df-buttons div {\n",
              "      margin-bottom: 4px;\n",
              "    }\n",
              "\n",
              "    [theme=dark] .colab-df-convert {\n",
              "      background-color: #3B4455;\n",
              "      fill: #D2E3FC;\n",
              "    }\n",
              "\n",
              "    [theme=dark] .colab-df-convert:hover {\n",
              "      background-color: #434B5C;\n",
              "      box-shadow: 0px 1px 3px 1px rgba(0, 0, 0, 0.15);\n",
              "      filter: drop-shadow(0px 1px 2px rgba(0, 0, 0, 0.3));\n",
              "      fill: #FFFFFF;\n",
              "    }\n",
              "  </style>\n",
              "\n",
              "    <script>\n",
              "      const buttonEl =\n",
              "        document.querySelector('#df-56a6d001-eb12-48ad-80fd-45fa7f479e24 button.colab-df-convert');\n",
              "      buttonEl.style.display =\n",
              "        google.colab.kernel.accessAllowed ? 'block' : 'none';\n",
              "\n",
              "      async function convertToInteractive(key) {\n",
              "        const element = document.querySelector('#df-56a6d001-eb12-48ad-80fd-45fa7f479e24');\n",
              "        const dataTable =\n",
              "          await google.colab.kernel.invokeFunction('convertToInteractive',\n",
              "                                                    [key], {});\n",
              "        if (!dataTable) return;\n",
              "\n",
              "        const docLinkHtml = 'Like what you see? Visit the ' +\n",
              "          '<a target=\"_blank\" href=https://colab.research.google.com/notebooks/data_table.ipynb>data table notebook</a>'\n",
              "          + ' to learn more about interactive tables.';\n",
              "        element.innerHTML = '';\n",
              "        dataTable['output_type'] = 'display_data';\n",
              "        await google.colab.output.renderOutput(dataTable, element);\n",
              "        const docLink = document.createElement('div');\n",
              "        docLink.innerHTML = docLinkHtml;\n",
              "        element.appendChild(docLink);\n",
              "      }\n",
              "    </script>\n",
              "  </div>\n",
              "\n",
              "\n",
              "<div id=\"df-416be698-c67a-46d4-b84e-158cd2497bcc\">\n",
              "  <button class=\"colab-df-quickchart\" onclick=\"quickchart('df-416be698-c67a-46d4-b84e-158cd2497bcc')\"\n",
              "            title=\"Suggest charts\"\n",
              "            style=\"display:none;\">\n",
              "\n",
              "<svg xmlns=\"http://www.w3.org/2000/svg\" height=\"24px\"viewBox=\"0 0 24 24\"\n",
              "     width=\"24px\">\n",
              "    <g>\n",
              "        <path d=\"M19 3H5c-1.1 0-2 .9-2 2v14c0 1.1.9 2 2 2h14c1.1 0 2-.9 2-2V5c0-1.1-.9-2-2-2zM9 17H7v-7h2v7zm4 0h-2V7h2v10zm4 0h-2v-4h2v4z\"/>\n",
              "    </g>\n",
              "</svg>\n",
              "  </button>\n",
              "\n",
              "<style>\n",
              "  .colab-df-quickchart {\n",
              "      --bg-color: #E8F0FE;\n",
              "      --fill-color: #1967D2;\n",
              "      --hover-bg-color: #E2EBFA;\n",
              "      --hover-fill-color: #174EA6;\n",
              "      --disabled-fill-color: #AAA;\n",
              "      --disabled-bg-color: #DDD;\n",
              "  }\n",
              "\n",
              "  [theme=dark] .colab-df-quickchart {\n",
              "      --bg-color: #3B4455;\n",
              "      --fill-color: #D2E3FC;\n",
              "      --hover-bg-color: #434B5C;\n",
              "      --hover-fill-color: #FFFFFF;\n",
              "      --disabled-bg-color: #3B4455;\n",
              "      --disabled-fill-color: #666;\n",
              "  }\n",
              "\n",
              "  .colab-df-quickchart {\n",
              "    background-color: var(--bg-color);\n",
              "    border: none;\n",
              "    border-radius: 50%;\n",
              "    cursor: pointer;\n",
              "    display: none;\n",
              "    fill: var(--fill-color);\n",
              "    height: 32px;\n",
              "    padding: 0;\n",
              "    width: 32px;\n",
              "  }\n",
              "\n",
              "  .colab-df-quickchart:hover {\n",
              "    background-color: var(--hover-bg-color);\n",
              "    box-shadow: 0 1px 2px rgba(60, 64, 67, 0.3), 0 1px 3px 1px rgba(60, 64, 67, 0.15);\n",
              "    fill: var(--button-hover-fill-color);\n",
              "  }\n",
              "\n",
              "  .colab-df-quickchart-complete:disabled,\n",
              "  .colab-df-quickchart-complete:disabled:hover {\n",
              "    background-color: var(--disabled-bg-color);\n",
              "    fill: var(--disabled-fill-color);\n",
              "    box-shadow: none;\n",
              "  }\n",
              "\n",
              "  .colab-df-spinner {\n",
              "    border: 2px solid var(--fill-color);\n",
              "    border-color: transparent;\n",
              "    border-bottom-color: var(--fill-color);\n",
              "    animation:\n",
              "      spin 1s steps(1) infinite;\n",
              "  }\n",
              "\n",
              "  @keyframes spin {\n",
              "    0% {\n",
              "      border-color: transparent;\n",
              "      border-bottom-color: var(--fill-color);\n",
              "      border-left-color: var(--fill-color);\n",
              "    }\n",
              "    20% {\n",
              "      border-color: transparent;\n",
              "      border-left-color: var(--fill-color);\n",
              "      border-top-color: var(--fill-color);\n",
              "    }\n",
              "    30% {\n",
              "      border-color: transparent;\n",
              "      border-left-color: var(--fill-color);\n",
              "      border-top-color: var(--fill-color);\n",
              "      border-right-color: var(--fill-color);\n",
              "    }\n",
              "    40% {\n",
              "      border-color: transparent;\n",
              "      border-right-color: var(--fill-color);\n",
              "      border-top-color: var(--fill-color);\n",
              "    }\n",
              "    60% {\n",
              "      border-color: transparent;\n",
              "      border-right-color: var(--fill-color);\n",
              "    }\n",
              "    80% {\n",
              "      border-color: transparent;\n",
              "      border-right-color: var(--fill-color);\n",
              "      border-bottom-color: var(--fill-color);\n",
              "    }\n",
              "    90% {\n",
              "      border-color: transparent;\n",
              "      border-bottom-color: var(--fill-color);\n",
              "    }\n",
              "  }\n",
              "</style>\n",
              "\n",
              "  <script>\n",
              "    async function quickchart(key) {\n",
              "      const quickchartButtonEl =\n",
              "        document.querySelector('#' + key + ' button');\n",
              "      quickchartButtonEl.disabled = true;  // To prevent multiple clicks.\n",
              "      quickchartButtonEl.classList.add('colab-df-spinner');\n",
              "      try {\n",
              "        const charts = await google.colab.kernel.invokeFunction(\n",
              "            'suggestCharts', [key], {});\n",
              "      } catch (error) {\n",
              "        console.error('Error during call to suggestCharts:', error);\n",
              "      }\n",
              "      quickchartButtonEl.classList.remove('colab-df-spinner');\n",
              "      quickchartButtonEl.classList.add('colab-df-quickchart-complete');\n",
              "    }\n",
              "    (() => {\n",
              "      let quickchartButtonEl =\n",
              "        document.querySelector('#df-416be698-c67a-46d4-b84e-158cd2497bcc button');\n",
              "      quickchartButtonEl.style.display =\n",
              "        google.colab.kernel.accessAllowed ? 'block' : 'none';\n",
              "    })();\n",
              "  </script>\n",
              "</div>\n",
              "\n",
              "    </div>\n",
              "  </div>\n"
            ],
            "application/vnd.google.colaboratory.intrinsic+json": {
              "type": "dataframe",
              "summary": "{\n  \"name\": \"data[[\\\"Income\\\",\\\"latitude\\\",\\\"longitude\\\",\\\"code\\\"]]\",\n  \"rows\": 8,\n  \"fields\": [\n    {\n      \"column\": \"Income\",\n      \"properties\": {\n        \"dtype\": \"number\",\n        \"std\": 137.04315385230393,\n        \"min\": 0.0,\n        \"max\": 388.0,\n        \"num_unique_values\": 7,\n        \"samples\": [\n          388.0,\n          0.34664948453608246,\n          0.7500000000000001\n        ],\n        \"semantic_type\": \"\",\n        \"description\": \"\"\n      }\n    },\n    {\n      \"column\": \"latitude\",\n      \"properties\": {\n        \"dtype\": \"number\",\n        \"std\": 137.0289844560049,\n        \"min\": 0.0,\n        \"max\": 388.0,\n        \"num_unique_values\": 8,\n        \"samples\": [\n          0.4512584024101449,\n          0.47212837837838606,\n          388.0\n        ],\n        \"semantic_type\": \"\",\n        \"description\": \"\"\n      }\n    },\n    {\n      \"column\": \"longitude\",\n      \"properties\": {\n        \"dtype\": \"number\",\n        \"std\": 137.03579985606672,\n        \"min\": 0.0,\n        \"max\": 388.0,\n        \"num_unique_values\": 8,\n        \"samples\": [\n          0.4232099857024329,\n          0.39379562043797023,\n          388.0\n        ],\n        \"semantic_type\": \"\",\n        \"description\": \"\"\n      }\n    },\n    {\n      \"column\": \"code\",\n      \"properties\": {\n        \"dtype\": \"number\",\n        \"std\": 137.0444964302875,\n        \"min\": 0.0,\n        \"max\": 388.0,\n        \"num_unique_values\": 8,\n        \"samples\": [\n          0.3621611302021697,\n          0.30092592592609435,\n          388.0\n        ],\n        \"semantic_type\": \"\",\n        \"description\": \"\"\n      }\n    }\n  ]\n}"
            }
          },
          "metadata": {},
          "execution_count": 12
        }
      ]
    },
    {
      "cell_type": "markdown",
      "source": [
        "**상관분석**"
      ],
      "metadata": {
        "id": "-7ExxphgUX8E"
      }
    },
    {
      "cell_type": "markdown",
      "source": [
        "스피어만 상관계수"
      ],
      "metadata": {
        "id": "q4nWGTSsX5Uq"
      }
    },
    {
      "cell_type": "code",
      "source": [
        "corr = data[[\"Age\",\"Family size\",\"Income\",\"Education\",\"Occupation\",\"Marital\",\"Feedback\"]].corr(method=\"spearman\")\n",
        "sns.heatmap(corr,annot=True,fmt=\".3f\")"
      ],
      "metadata": {
        "colab": {
          "base_uri": "https://localhost:8080/",
          "height": 519
        },
        "id": "eVSMCylOq6-D",
        "outputId": "a4b0bb22-7ca7-43bd-92bd-3b285da59008"
      },
      "execution_count": 13,
      "outputs": [
        {
          "output_type": "execute_result",
          "data": {
            "text/plain": [
              "<Axes: >"
            ]
          },
          "metadata": {},
          "execution_count": 13
        },
        {
          "output_type": "display_data",
          "data": {
            "text/plain": [
              "<Figure size 640x480 with 2 Axes>"
            ],
            "image/png": "[encoded data removed]"
          },
          "metadata": {}
        }
      ]
    },
    {
      "cell_type": "markdown",
      "source": [
        "크래머 V"
      ],
      "metadata": {
        "id": "k2L3NqFwX0yQ"
      }
    },
    {
      "cell_type": "code",
      "source": [
        "results = {}\n",
        "for d in [\"Education\",\"Occupation\",\"Marital\"]:\n",
        "  assoc = data[[d,\"Feedback\"]].apply(lambda x:x+1)\n",
        "  results[d]=([association(assoc,method=\"cramer\")])\n",
        "\n",
        "corr = pd.DataFrame.from_dict(data = results,orient=\"columns\")\n",
        "corr.rename(index={0:\"Feedback\"},inplace=True)\n",
        "plt.figure(figsize=(8,2))\n",
        "sns.heatmap(corr,annot=True,fmt=\".3f\")"
      ],
      "metadata": {
        "colab": {
          "base_uri": "https://localhost:8080/",
          "height": 233
        },
        "id": "IOYm8CLWuBOz",
        "outputId": "9c6de568-981c-4c59-9266-2e4d58610fe3"
      },
      "execution_count": 14,
      "outputs": [
        {
          "output_type": "execute_result",
          "data": {
            "text/plain": [
              "<Axes: >"
            ]
          },
          "metadata": {},
          "execution_count": 14
        },
        {
          "output_type": "display_data",
          "data": {
            "text/plain": [
              "<Figure size 800x200 with 2 Axes>"
            ],
            "image/png": "[encoded data removed]"
          },
          "metadata": {}
        }
      ]
    },
    {
      "cell_type": "code",
      "source": [
        "data[\"Income\"] = data[\"Income\"].apply(lambda x:math.floor(x*100)/100)\n",
        "sns.countplot(data=data,x=\"Income\",hue=\"Marital\")"
      ],
      "metadata": {
        "id": "fIUpxYgA7Smf",
        "colab": {
          "base_uri": "https://localhost:8080/",
          "height": 468
        },
        "outputId": "de10e591-6b9a-49e3-90f1-6d629ba64cd2"
      },
      "execution_count": 15,
      "outputs": [
        {
          "output_type": "execute_result",
          "data": {
            "text/plain": [
              "<Axes: xlabel='Income', ylabel='count'>"
            ]
          },
          "metadata": {},
          "execution_count": 15
        },
        {
          "output_type": "display_data",
          "data": {
            "text/plain": [
              "<Figure size 640x480 with 1 Axes>"
            ],
            "image/png": "[encoded data removed]"
          },
          "metadata": {}
        }
      ]
    },
    {
      "cell_type": "markdown",
      "source": [
        "**카이제곱 독립성 검정**\n",
        "\n",
        "H0 수입과 결혼 여부는 독립적이다\n",
        "\n",
        "H1 수입과 결혼 여부는 독립이 아니다"
      ],
      "metadata": {
        "id": "9ArP4-s_y4T_"
      }
    },
    {
      "cell_type": "code",
      "source": [
        "table = pd.crosstab(data[\"Marital\"],data[\"Income\"])\n",
        "res = stats.chi2_contingency(table)\n",
        "\n",
        "print(\"Statistic : \",res.statistic)\n",
        "print(\"P-value : \",res.pvalue)\n",
        "print(\"Dof : \",res.dof)\n",
        "print(\"Expected_freq : \",res.expected_freq)"
      ],
      "metadata": {
        "colab": {
          "base_uri": "https://localhost:8080/"
        },
        "id": "2RBu5RaFif0k",
        "outputId": "b0c2cd1c-dc1c-40b2-da2c-0055b11c860e"
      },
      "execution_count": 16,
      "outputs": [
        {
          "output_type": "stream",
          "name": "stdout",
          "text": [
            "Statistic :  134.35502818835724\n",
            "P-value :  3.533714876244933e-25\n",
            "Dof :  8\n",
            "Expected_freq :  [[ 52.05154639   6.95876289  12.5257732   19.20618557  17.25773196]\n",
            " [  5.78350515   0.77319588   1.39175258   2.13402062   1.91752577]\n",
            " [129.16494845  17.26804124  31.08247423  47.65979381  42.82474227]]\n"
          ]
        }
      ]
    }
  ]
}